{
  "nbformat": 4,
  "nbformat_minor": 0,
  "metadata": {
    "colab": {
      "name": "Iris-Classifier.ipynb",
      "provenance": []
    },
    "kernelspec": {
      "name": "python3",
      "display_name": "Python 3"
    },
    "language_info": {
      "name": "python"
    },
    "accelerator": "GPU"
  },
  "cells": [
    {
      "cell_type": "code",
      "metadata": {
        "id": "N_JDS6cZ_g9M"
      },
      "source": [
        "from sklearn import model_selection\n",
        "from sklearn.metrics import accuracy_score\n",
        "from sklearn.linear_model import LogisticRegression"
      ],
      "execution_count": 1,
      "outputs": []
    },
    {
      "cell_type": "code",
      "metadata": {
        "id": "On_R8lhi_msK"
      },
      "source": [
        "import pandas as pd\n",
        "import numpy as np"
      ],
      "execution_count": 2,
      "outputs": []
    },
    {
      "cell_type": "code",
      "metadata": {
        "colab": {
          "base_uri": "https://localhost:8080/",
          "height": 195
        },
        "id": "UaycojQjAtaE",
        "outputId": "96c11bd5-a356-4425-b8bc-ef7e8e1889ca"
      },
      "source": [
        "df = pd.read_csv(\"iris.csv\")\n",
        "df.head()"
      ],
      "execution_count": 3,
      "outputs": [
        {
          "output_type": "execute_result",
          "data": {
            "text/html": [
              "<div>\n",
              "<style scoped>\n",
              "    .dataframe tbody tr th:only-of-type {\n",
              "        vertical-align: middle;\n",
              "    }\n",
              "\n",
              "    .dataframe tbody tr th {\n",
              "        vertical-align: top;\n",
              "    }\n",
              "\n",
              "    .dataframe thead th {\n",
              "        text-align: right;\n",
              "    }\n",
              "</style>\n",
              "<table border=\"1\" class=\"dataframe\">\n",
              "  <thead>\n",
              "    <tr style=\"text-align: right;\">\n",
              "      <th></th>\n",
              "      <th>5.1</th>\n",
              "      <th>3.5</th>\n",
              "      <th>1.4</th>\n",
              "      <th>0.2</th>\n",
              "      <th>Iris-setosa</th>\n",
              "    </tr>\n",
              "  </thead>\n",
              "  <tbody>\n",
              "    <tr>\n",
              "      <th>0</th>\n",
              "      <td>4.9</td>\n",
              "      <td>3.0</td>\n",
              "      <td>1.4</td>\n",
              "      <td>0.2</td>\n",
              "      <td>Iris-setosa</td>\n",
              "    </tr>\n",
              "    <tr>\n",
              "      <th>1</th>\n",
              "      <td>4.7</td>\n",
              "      <td>3.2</td>\n",
              "      <td>1.3</td>\n",
              "      <td>0.2</td>\n",
              "      <td>Iris-setosa</td>\n",
              "    </tr>\n",
              "    <tr>\n",
              "      <th>2</th>\n",
              "      <td>4.6</td>\n",
              "      <td>3.1</td>\n",
              "      <td>1.5</td>\n",
              "      <td>0.2</td>\n",
              "      <td>Iris-setosa</td>\n",
              "    </tr>\n",
              "    <tr>\n",
              "      <th>3</th>\n",
              "      <td>5.0</td>\n",
              "      <td>3.6</td>\n",
              "      <td>1.4</td>\n",
              "      <td>0.2</td>\n",
              "      <td>Iris-setosa</td>\n",
              "    </tr>\n",
              "    <tr>\n",
              "      <th>4</th>\n",
              "      <td>5.4</td>\n",
              "      <td>3.9</td>\n",
              "      <td>1.7</td>\n",
              "      <td>0.4</td>\n",
              "      <td>Iris-setosa</td>\n",
              "    </tr>\n",
              "  </tbody>\n",
              "</table>\n",
              "</div>"
            ],
            "text/plain": [
              "   5.1  3.5  1.4  0.2  Iris-setosa\n",
              "0  4.9  3.0  1.4  0.2  Iris-setosa\n",
              "1  4.7  3.2  1.3  0.2  Iris-setosa\n",
              "2  4.6  3.1  1.5  0.2  Iris-setosa\n",
              "3  5.0  3.6  1.4  0.2  Iris-setosa\n",
              "4  5.4  3.9  1.7  0.4  Iris-setosa"
            ]
          },
          "metadata": {
            "tags": []
          },
          "execution_count": 3
        }
      ]
    },
    {
      "cell_type": "code",
      "metadata": {
        "colab": {
          "base_uri": "https://localhost:8080/"
        },
        "id": "um_gzLGCAzsg",
        "outputId": "c93d6c59-d51e-4d59-fae5-ad664b176a42"
      },
      "source": [
        "array = df.values\n",
        "x = array[:,0:4]\n",
        "y = array[:,4]\n",
        "x"
      ],
      "execution_count": 4,
      "outputs": [
        {
          "output_type": "execute_result",
          "data": {
            "text/plain": [
              "array([[4.9, 3.0, 1.4, 0.2],\n",
              "       [4.7, 3.2, 1.3, 0.2],\n",
              "       [4.6, 3.1, 1.5, 0.2],\n",
              "       [5.0, 3.6, 1.4, 0.2],\n",
              "       [5.4, 3.9, 1.7, 0.4],\n",
              "       [4.6, 3.4, 1.4, 0.3],\n",
              "       [5.0, 3.4, 1.5, 0.2],\n",
              "       [4.4, 2.9, 1.4, 0.2],\n",
              "       [4.9, 3.1, 1.5, 0.1],\n",
              "       [5.4, 3.7, 1.5, 0.2],\n",
              "       [4.8, 3.4, 1.6, 0.2],\n",
              "       [4.8, 3.0, 1.4, 0.1],\n",
              "       [4.3, 3.0, 1.1, 0.1],\n",
              "       [5.8, 4.0, 1.2, 0.2],\n",
              "       [5.7, 4.4, 1.5, 0.4],\n",
              "       [5.4, 3.9, 1.3, 0.4],\n",
              "       [5.1, 3.5, 1.4, 0.3],\n",
              "       [5.7, 3.8, 1.7, 0.3],\n",
              "       [5.1, 3.8, 1.5, 0.3],\n",
              "       [5.4, 3.4, 1.7, 0.2],\n",
              "       [5.1, 3.7, 1.5, 0.4],\n",
              "       [4.6, 3.6, 1.0, 0.2],\n",
              "       [5.1, 3.3, 1.7, 0.5],\n",
              "       [4.8, 3.4, 1.9, 0.2],\n",
              "       [5.0, 3.0, 1.6, 0.2],\n",
              "       [5.0, 3.4, 1.6, 0.4],\n",
              "       [5.2, 3.5, 1.5, 0.2],\n",
              "       [5.2, 3.4, 1.4, 0.2],\n",
              "       [4.7, 3.2, 1.6, 0.2],\n",
              "       [4.8, 3.1, 1.6, 0.2],\n",
              "       [5.4, 3.4, 1.5, 0.4],\n",
              "       [5.2, 4.1, 1.5, 0.1],\n",
              "       [5.5, 4.2, 1.4, 0.2],\n",
              "       [4.9, 3.1, 1.5, 0.1],\n",
              "       [5.0, 3.2, 1.2, 0.2],\n",
              "       [5.5, 3.5, 1.3, 0.2],\n",
              "       [4.9, 3.1, 1.5, 0.1],\n",
              "       [4.4, 3.0, 1.3, 0.2],\n",
              "       [5.1, 3.4, 1.5, 0.2],\n",
              "       [5.0, 3.5, 1.3, 0.3],\n",
              "       [4.5, 2.3, 1.3, 0.3],\n",
              "       [4.4, 3.2, 1.3, 0.2],\n",
              "       [5.0, 3.5, 1.6, 0.6],\n",
              "       [5.1, 3.8, 1.9, 0.4],\n",
              "       [4.8, 3.0, 1.4, 0.3],\n",
              "       [5.1, 3.8, 1.6, 0.2],\n",
              "       [4.6, 3.2, 1.4, 0.2],\n",
              "       [5.3, 3.7, 1.5, 0.2],\n",
              "       [5.0, 3.3, 1.4, 0.2],\n",
              "       [7.0, 3.2, 4.7, 1.4],\n",
              "       [6.4, 3.2, 4.5, 1.5],\n",
              "       [6.9, 3.1, 4.9, 1.5],\n",
              "       [5.5, 2.3, 4.0, 1.3],\n",
              "       [6.5, 2.8, 4.6, 1.5],\n",
              "       [5.7, 2.8, 4.5, 1.3],\n",
              "       [6.3, 3.3, 4.7, 1.6],\n",
              "       [4.9, 2.4, 3.3, 1.0],\n",
              "       [6.6, 2.9, 4.6, 1.3],\n",
              "       [5.2, 2.7, 3.9, 1.4],\n",
              "       [5.0, 2.0, 3.5, 1.0],\n",
              "       [5.9, 3.0, 4.2, 1.5],\n",
              "       [6.0, 2.2, 4.0, 1.0],\n",
              "       [6.1, 2.9, 4.7, 1.4],\n",
              "       [5.6, 2.9, 3.6, 1.3],\n",
              "       [6.7, 3.1, 4.4, 1.4],\n",
              "       [5.6, 3.0, 4.5, 1.5],\n",
              "       [5.8, 2.7, 4.1, 1.0],\n",
              "       [6.2, 2.2, 4.5, 1.5],\n",
              "       [5.6, 2.5, 3.9, 1.1],\n",
              "       [5.9, 3.2, 4.8, 1.8],\n",
              "       [6.1, 2.8, 4.0, 1.3],\n",
              "       [6.3, 2.5, 4.9, 1.5],\n",
              "       [6.1, 2.8, 4.7, 1.2],\n",
              "       [6.4, 2.9, 4.3, 1.3],\n",
              "       [6.6, 3.0, 4.4, 1.4],\n",
              "       [6.8, 2.8, 4.8, 1.4],\n",
              "       [6.7, 3.0, 5.0, 1.7],\n",
              "       [6.0, 2.9, 4.5, 1.5],\n",
              "       [5.7, 2.6, 3.5, 1.0],\n",
              "       [5.5, 2.4, 3.8, 1.1],\n",
              "       [5.5, 2.4, 3.7, 1.0],\n",
              "       [5.8, 2.7, 3.9, 1.2],\n",
              "       [6.0, 2.7, 5.1, 1.6],\n",
              "       [5.4, 3.0, 4.5, 1.5],\n",
              "       [6.0, 3.4, 4.5, 1.6],\n",
              "       [6.7, 3.1, 4.7, 1.5],\n",
              "       [6.3, 2.3, 4.4, 1.3],\n",
              "       [5.6, 3.0, 4.1, 1.3],\n",
              "       [5.5, 2.5, 4.0, 1.3],\n",
              "       [5.5, 2.6, 4.4, 1.2],\n",
              "       [6.1, 3.0, 4.6, 1.4],\n",
              "       [5.8, 2.6, 4.0, 1.2],\n",
              "       [5.0, 2.3, 3.3, 1.0],\n",
              "       [5.6, 2.7, 4.2, 1.3],\n",
              "       [5.7, 3.0, 4.2, 1.2],\n",
              "       [5.7, 2.9, 4.2, 1.3],\n",
              "       [6.2, 2.9, 4.3, 1.3],\n",
              "       [5.1, 2.5, 3.0, 1.1],\n",
              "       [5.7, 2.8, 4.1, 1.3],\n",
              "       [6.3, 3.3, 6.0, 2.5],\n",
              "       [5.8, 2.7, 5.1, 1.9],\n",
              "       [7.1, 3.0, 5.9, 2.1],\n",
              "       [6.3, 2.9, 5.6, 1.8],\n",
              "       [6.5, 3.0, 5.8, 2.2],\n",
              "       [7.6, 3.0, 6.6, 2.1],\n",
              "       [4.9, 2.5, 4.5, 1.7],\n",
              "       [7.3, 2.9, 6.3, 1.8],\n",
              "       [6.7, 2.5, 5.8, 1.8],\n",
              "       [7.2, 3.6, 6.1, 2.5],\n",
              "       [6.5, 3.2, 5.1, 2.0],\n",
              "       [6.4, 2.7, 5.3, 1.9],\n",
              "       [6.8, 3.0, 5.5, 2.1],\n",
              "       [5.7, 2.5, 5.0, 2.0],\n",
              "       [5.8, 2.8, 5.1, 2.4],\n",
              "       [6.4, 3.2, 5.3, 2.3],\n",
              "       [6.5, 3.0, 5.5, 1.8],\n",
              "       [7.7, 3.8, 6.7, 2.2],\n",
              "       [7.7, 2.6, 6.9, 2.3],\n",
              "       [6.0, 2.2, 5.0, 1.5],\n",
              "       [6.9, 3.2, 5.7, 2.3],\n",
              "       [5.6, 2.8, 4.9, 2.0],\n",
              "       [7.7, 2.8, 6.7, 2.0],\n",
              "       [6.3, 2.7, 4.9, 1.8],\n",
              "       [6.7, 3.3, 5.7, 2.1],\n",
              "       [7.2, 3.2, 6.0, 1.8],\n",
              "       [6.2, 2.8, 4.8, 1.8],\n",
              "       [6.1, 3.0, 4.9, 1.8],\n",
              "       [6.4, 2.8, 5.6, 2.1],\n",
              "       [7.2, 3.0, 5.8, 1.6],\n",
              "       [7.4, 2.8, 6.1, 1.9],\n",
              "       [7.9, 3.8, 6.4, 2.0],\n",
              "       [6.4, 2.8, 5.6, 2.2],\n",
              "       [6.3, 2.8, 5.1, 1.5],\n",
              "       [6.1, 2.6, 5.6, 1.4],\n",
              "       [7.7, 3.0, 6.1, 2.3],\n",
              "       [6.3, 3.4, 5.6, 2.4],\n",
              "       [6.4, 3.1, 5.5, 1.8],\n",
              "       [6.0, 3.0, 4.8, 1.8],\n",
              "       [6.9, 3.1, 5.4, 2.1],\n",
              "       [6.7, 3.1, 5.6, 2.4],\n",
              "       [6.9, 3.1, 5.1, 2.3],\n",
              "       [5.8, 2.7, 5.1, 1.9],\n",
              "       [6.8, 3.2, 5.9, 2.3],\n",
              "       [6.7, 3.3, 5.7, 2.5],\n",
              "       [6.7, 3.0, 5.2, 2.3],\n",
              "       [6.3, 2.5, 5.0, 1.9],\n",
              "       [6.5, 3.0, 5.2, 2.0],\n",
              "       [6.2, 3.4, 5.4, 2.3],\n",
              "       [5.9, 3.0, 5.1, 1.8]], dtype=object)"
            ]
          },
          "metadata": {
            "tags": []
          },
          "execution_count": 4
        }
      ]
    },
    {
      "cell_type": "code",
      "metadata": {
        "colab": {
          "base_uri": "https://localhost:8080/"
        },
        "id": "02KctiY-A-TK",
        "outputId": "6938bd49-ab83-42f8-9032-9212858b7473"
      },
      "source": [
        "y"
      ],
      "execution_count": 5,
      "outputs": [
        {
          "output_type": "execute_result",
          "data": {
            "text/plain": [
              "array(['Iris-setosa', 'Iris-setosa', 'Iris-setosa', 'Iris-setosa',\n",
              "       'Iris-setosa', 'Iris-setosa', 'Iris-setosa', 'Iris-setosa',\n",
              "       'Iris-setosa', 'Iris-setosa', 'Iris-setosa', 'Iris-setosa',\n",
              "       'Iris-setosa', 'Iris-setosa', 'Iris-setosa', 'Iris-setosa',\n",
              "       'Iris-setosa', 'Iris-setosa', 'Iris-setosa', 'Iris-setosa',\n",
              "       'Iris-setosa', 'Iris-setosa', 'Iris-setosa', 'Iris-setosa',\n",
              "       'Iris-setosa', 'Iris-setosa', 'Iris-setosa', 'Iris-setosa',\n",
              "       'Iris-setosa', 'Iris-setosa', 'Iris-setosa', 'Iris-setosa',\n",
              "       'Iris-setosa', 'Iris-setosa', 'Iris-setosa', 'Iris-setosa',\n",
              "       'Iris-setosa', 'Iris-setosa', 'Iris-setosa', 'Iris-setosa',\n",
              "       'Iris-setosa', 'Iris-setosa', 'Iris-setosa', 'Iris-setosa',\n",
              "       'Iris-setosa', 'Iris-setosa', 'Iris-setosa', 'Iris-setosa',\n",
              "       'Iris-setosa', 'Iris-versicolor', 'Iris-versicolor',\n",
              "       'Iris-versicolor', 'Iris-versicolor', 'Iris-versicolor',\n",
              "       'Iris-versicolor', 'Iris-versicolor', 'Iris-versicolor',\n",
              "       'Iris-versicolor', 'Iris-versicolor', 'Iris-versicolor',\n",
              "       'Iris-versicolor', 'Iris-versicolor', 'Iris-versicolor',\n",
              "       'Iris-versicolor', 'Iris-versicolor', 'Iris-versicolor',\n",
              "       'Iris-versicolor', 'Iris-versicolor', 'Iris-versicolor',\n",
              "       'Iris-versicolor', 'Iris-versicolor', 'Iris-versicolor',\n",
              "       'Iris-versicolor', 'Iris-versicolor', 'Iris-versicolor',\n",
              "       'Iris-versicolor', 'Iris-versicolor', 'Iris-versicolor',\n",
              "       'Iris-versicolor', 'Iris-versicolor', 'Iris-versicolor',\n",
              "       'Iris-versicolor', 'Iris-versicolor', 'Iris-versicolor',\n",
              "       'Iris-versicolor', 'Iris-versicolor', 'Iris-versicolor',\n",
              "       'Iris-versicolor', 'Iris-versicolor', 'Iris-versicolor',\n",
              "       'Iris-versicolor', 'Iris-versicolor', 'Iris-versicolor',\n",
              "       'Iris-versicolor', 'Iris-versicolor', 'Iris-versicolor',\n",
              "       'Iris-versicolor', 'Iris-versicolor', 'Iris-versicolor',\n",
              "       'Iris-virginica', 'Iris-virginica', 'Iris-virginica',\n",
              "       'Iris-virginica', 'Iris-virginica', 'Iris-virginica',\n",
              "       'Iris-virginica', 'Iris-virginica', 'Iris-virginica',\n",
              "       'Iris-virginica', 'Iris-virginica', 'Iris-virginica',\n",
              "       'Iris-virginica', 'Iris-virginica', 'Iris-virginica',\n",
              "       'Iris-virginica', 'Iris-virginica', 'Iris-virginica',\n",
              "       'Iris-virginica', 'Iris-virginica', 'Iris-virginica',\n",
              "       'Iris-virginica', 'Iris-virginica', 'Iris-virginica',\n",
              "       'Iris-virginica', 'Iris-virginica', 'Iris-virginica',\n",
              "       'Iris-virginica', 'Iris-virginica', 'Iris-virginica',\n",
              "       'Iris-virginica', 'Iris-virginica', 'Iris-virginica',\n",
              "       'Iris-virginica', 'Iris-virginica', 'Iris-virginica',\n",
              "       'Iris-virginica', 'Iris-virginica', 'Iris-virginica',\n",
              "       'Iris-virginica', 'Iris-virginica', 'Iris-virginica',\n",
              "       'Iris-virginica', 'Iris-virginica', 'Iris-virginica',\n",
              "       'Iris-virginica', 'Iris-virginica', 'Iris-virginica',\n",
              "       'Iris-virginica', 'Iris-virginica'], dtype=object)"
            ]
          },
          "metadata": {
            "tags": []
          },
          "execution_count": 5
        }
      ]
    },
    {
      "cell_type": "code",
      "metadata": {
        "id": "Q0tmnCQYBAye"
      },
      "source": [
        "from sklearn.model_selection import train_test_split"
      ],
      "execution_count": 6,
      "outputs": []
    },
    {
      "cell_type": "code",
      "metadata": {
        "id": "38z7Y6zGBDdk"
      },
      "source": [
        "\n",
        "x_train, x_test, y_train, y_test = train_test_split(x, y, test_size=0.2, random_state=5)"
      ],
      "execution_count": 7,
      "outputs": []
    },
    {
      "cell_type": "code",
      "metadata": {
        "colab": {
          "base_uri": "https://localhost:8080/"
        },
        "id": "B_BaVcy5BF0f",
        "outputId": "bbe30bc1-e899-4c87-e795-ae2a0d0c8a01"
      },
      "source": [
        "x_train"
      ],
      "execution_count": 8,
      "outputs": [
        {
          "output_type": "execute_result",
          "data": {
            "text/plain": [
              "array([[5.0, 3.5, 1.3, 0.3],\n",
              "       [6.5, 2.8, 4.6, 1.5],\n",
              "       [5.9, 3.0, 5.1, 1.8],\n",
              "       [4.8, 3.4, 1.6, 0.2],\n",
              "       [6.4, 3.2, 4.5, 1.5],\n",
              "       [7.0, 3.2, 4.7, 1.4],\n",
              "       [5.1, 3.8, 1.9, 0.4],\n",
              "       [7.2, 3.2, 6.0, 1.8],\n",
              "       [4.5, 2.3, 1.3, 0.3],\n",
              "       [5.8, 2.7, 4.1, 1.0],\n",
              "       [6.7, 3.3, 5.7, 2.5],\n",
              "       [6.3, 2.8, 5.1, 1.5],\n",
              "       [5.7, 3.8, 1.7, 0.3],\n",
              "       [4.6, 3.2, 1.4, 0.2],\n",
              "       [5.7, 2.8, 4.5, 1.3],\n",
              "       [5.5, 2.4, 3.8, 1.1],\n",
              "       [5.8, 2.7, 3.9, 1.2],\n",
              "       [6.0, 2.9, 4.5, 1.5],\n",
              "       [7.6, 3.0, 6.6, 2.1],\n",
              "       [5.1, 3.7, 1.5, 0.4],\n",
              "       [6.1, 2.8, 4.7, 1.2],\n",
              "       [5.5, 3.5, 1.3, 0.2],\n",
              "       [5.0, 3.4, 1.5, 0.2],\n",
              "       [5.4, 3.9, 1.3, 0.4],\n",
              "       [4.7, 3.2, 1.6, 0.2],\n",
              "       [6.2, 2.9, 4.3, 1.3],\n",
              "       [7.7, 3.0, 6.1, 2.3],\n",
              "       [5.1, 2.5, 3.0, 1.1],\n",
              "       [5.7, 2.8, 4.1, 1.3],\n",
              "       [6.8, 3.0, 5.5, 2.1],\n",
              "       [7.7, 3.8, 6.7, 2.2],\n",
              "       [5.5, 2.3, 4.0, 1.3],\n",
              "       [5.1, 3.3, 1.7, 0.5],\n",
              "       [6.4, 2.8, 5.6, 2.2],\n",
              "       [6.6, 3.0, 4.4, 1.4],\n",
              "       [4.4, 3.0, 1.3, 0.2],\n",
              "       [6.8, 2.8, 4.8, 1.4],\n",
              "       [6.5, 3.0, 5.2, 2.0],\n",
              "       [6.7, 3.1, 4.4, 1.4],\n",
              "       [5.7, 3.0, 4.2, 1.2],\n",
              "       [5.6, 2.7, 4.2, 1.3],\n",
              "       [6.1, 3.0, 4.9, 1.8],\n",
              "       [6.3, 3.4, 5.6, 2.4],\n",
              "       [6.5, 3.2, 5.1, 2.0],\n",
              "       [6.0, 3.4, 4.5, 1.6],\n",
              "       [6.9, 3.1, 5.4, 2.1],\n",
              "       [6.7, 3.0, 5.0, 1.7],\n",
              "       [5.5, 4.2, 1.4, 0.2],\n",
              "       [5.7, 2.9, 4.2, 1.3],\n",
              "       [5.8, 4.0, 1.2, 0.2],\n",
              "       [5.0, 3.0, 1.6, 0.2],\n",
              "       [5.0, 2.0, 3.5, 1.0],\n",
              "       [5.1, 3.8, 1.6, 0.2],\n",
              "       [5.0, 3.2, 1.2, 0.2],\n",
              "       [7.2, 3.0, 5.8, 1.6],\n",
              "       [5.0, 2.3, 3.3, 1.0],\n",
              "       [5.3, 3.7, 1.5, 0.2],\n",
              "       [6.5, 3.0, 5.5, 1.8],\n",
              "       [5.4, 3.7, 1.5, 0.2],\n",
              "       [6.2, 3.4, 5.4, 2.3],\n",
              "       [6.1, 3.0, 4.6, 1.4],\n",
              "       [5.7, 4.4, 1.5, 0.4],\n",
              "       [5.1, 3.5, 1.4, 0.3],\n",
              "       [6.7, 3.3, 5.7, 2.1],\n",
              "       [6.7, 3.1, 4.7, 1.5],\n",
              "       [5.5, 2.6, 4.4, 1.2],\n",
              "       [4.9, 3.1, 1.5, 0.1],\n",
              "       [4.8, 3.1, 1.6, 0.2],\n",
              "       [6.9, 3.2, 5.7, 2.3],\n",
              "       [5.7, 2.6, 3.5, 1.0],\n",
              "       [5.8, 2.6, 4.0, 1.2],\n",
              "       [5.0, 3.6, 1.4, 0.2],\n",
              "       [6.3, 3.3, 4.7, 1.6],\n",
              "       [6.0, 3.0, 4.8, 1.8],\n",
              "       [6.2, 2.2, 4.5, 1.5],\n",
              "       [4.8, 3.0, 1.4, 0.1],\n",
              "       [6.1, 2.9, 4.7, 1.4],\n",
              "       [6.4, 3.1, 5.5, 1.8],\n",
              "       [7.2, 3.6, 6.1, 2.5],\n",
              "       [5.8, 2.7, 5.1, 1.9],\n",
              "       [6.8, 3.2, 5.9, 2.3],\n",
              "       [5.1, 3.8, 1.5, 0.3],\n",
              "       [5.4, 3.4, 1.7, 0.2],\n",
              "       [5.4, 3.0, 4.5, 1.5],\n",
              "       [6.1, 2.6, 5.6, 1.4],\n",
              "       [5.1, 3.4, 1.5, 0.2],\n",
              "       [5.6, 2.5, 3.9, 1.1],\n",
              "       [4.6, 3.1, 1.5, 0.2],\n",
              "       [5.2, 4.1, 1.5, 0.1],\n",
              "       [6.7, 3.1, 5.6, 2.4],\n",
              "       [6.9, 3.1, 4.9, 1.5],\n",
              "       [4.9, 2.5, 4.5, 1.7],\n",
              "       [4.9, 3.1, 1.5, 0.1],\n",
              "       [6.4, 2.7, 5.3, 1.9],\n",
              "       [5.4, 3.9, 1.7, 0.4],\n",
              "       [6.9, 3.1, 5.1, 2.3],\n",
              "       [4.9, 3.0, 1.4, 0.2],\n",
              "       [5.2, 2.7, 3.9, 1.4],\n",
              "       [4.6, 3.4, 1.4, 0.3],\n",
              "       [6.5, 3.0, 5.8, 2.2],\n",
              "       [7.4, 2.8, 6.1, 1.9],\n",
              "       [4.4, 3.2, 1.3, 0.2],\n",
              "       [7.3, 2.9, 6.3, 1.8],\n",
              "       [7.7, 2.8, 6.7, 2.0],\n",
              "       [6.2, 2.8, 4.8, 1.8],\n",
              "       [6.3, 2.3, 4.4, 1.3],\n",
              "       [5.4, 3.4, 1.5, 0.4],\n",
              "       [5.6, 3.0, 4.5, 1.5],\n",
              "       [4.8, 3.0, 1.4, 0.3],\n",
              "       [5.2, 3.4, 1.4, 0.2],\n",
              "       [5.5, 2.4, 3.7, 1.0],\n",
              "       [5.8, 2.8, 5.1, 2.4],\n",
              "       [4.4, 2.9, 1.4, 0.2],\n",
              "       [5.7, 2.5, 5.0, 2.0],\n",
              "       [4.9, 3.1, 1.5, 0.1],\n",
              "       [6.4, 2.9, 4.3, 1.3],\n",
              "       [6.7, 3.0, 5.2, 2.3],\n",
              "       [6.0, 2.2, 5.0, 1.5],\n",
              "       [6.3, 3.3, 6.0, 2.5]], dtype=object)"
            ]
          },
          "metadata": {
            "tags": []
          },
          "execution_count": 8
        }
      ]
    },
    {
      "cell_type": "code",
      "metadata": {
        "colab": {
          "base_uri": "https://localhost:8080/"
        },
        "id": "89rYo4MuBIcT",
        "outputId": "1754a33c-d45d-4f94-a524-be4ecd8e8d18"
      },
      "source": [
        "logistic_model = LogisticRegression(random_state = 0)\n",
        "logistic_model.fit(x_train, y_train)"
      ],
      "execution_count": 9,
      "outputs": [
        {
          "output_type": "stream",
          "text": [
            "/usr/local/lib/python3.7/dist-packages/sklearn/linear_model/_logistic.py:940: ConvergenceWarning: lbfgs failed to converge (status=1):\n",
            "STOP: TOTAL NO. of ITERATIONS REACHED LIMIT.\n",
            "\n",
            "Increase the number of iterations (max_iter) or scale the data as shown in:\n",
            "    https://scikit-learn.org/stable/modules/preprocessing.html\n",
            "Please also refer to the documentation for alternative solver options:\n",
            "    https://scikit-learn.org/stable/modules/linear_model.html#logistic-regression\n",
            "  extra_warning_msg=_LOGISTIC_SOLVER_CONVERGENCE_MSG)\n"
          ],
          "name": "stderr"
        },
        {
          "output_type": "execute_result",
          "data": {
            "text/plain": [
              "LogisticRegression(C=1.0, class_weight=None, dual=False, fit_intercept=True,\n",
              "                   intercept_scaling=1, l1_ratio=None, max_iter=100,\n",
              "                   multi_class='auto', n_jobs=None, penalty='l2',\n",
              "                   random_state=0, solver='lbfgs', tol=0.0001, verbose=0,\n",
              "                   warm_start=False)"
            ]
          },
          "metadata": {
            "tags": []
          },
          "execution_count": 9
        }
      ]
    },
    {
      "cell_type": "code",
      "metadata": {
        "colab": {
          "base_uri": "https://localhost:8080/"
        },
        "id": "p8XlI6HjBRX2",
        "outputId": "eefc4fcf-d728-47ff-ee3c-0f73979aa5e6"
      },
      "source": [
        "\n",
        "y_predict =logistic_model.predict(x_test)\n",
        "y_predict"
      ],
      "execution_count": 10,
      "outputs": [
        {
          "output_type": "execute_result",
          "data": {
            "text/plain": [
              "array(['Iris-virginica', 'Iris-virginica', 'Iris-virginica',\n",
              "       'Iris-setosa', 'Iris-virginica', 'Iris-versicolor', 'Iris-setosa',\n",
              "       'Iris-virginica', 'Iris-setosa', 'Iris-virginica',\n",
              "       'Iris-virginica', 'Iris-virginica', 'Iris-virginica',\n",
              "       'Iris-versicolor', 'Iris-setosa', 'Iris-setosa', 'Iris-virginica',\n",
              "       'Iris-virginica', 'Iris-setosa', 'Iris-setosa', 'Iris-versicolor',\n",
              "       'Iris-versicolor', 'Iris-setosa', 'Iris-versicolor',\n",
              "       'Iris-versicolor', 'Iris-virginica', 'Iris-virginica',\n",
              "       'Iris-versicolor', 'Iris-versicolor', 'Iris-versicolor'],\n",
              "      dtype=object)"
            ]
          },
          "metadata": {
            "tags": []
          },
          "execution_count": 10
        }
      ]
    },
    {
      "cell_type": "code",
      "metadata": {
        "colab": {
          "base_uri": "https://localhost:8080/"
        },
        "id": "fyg2fQc4BWdJ",
        "outputId": "154a85d6-6923-48bb-a4c2-8f653ccf64f4"
      },
      "source": [
        "print(\"accuracy :\" , logistic_model.score(x_test,y_test))\n"
      ],
      "execution_count": 11,
      "outputs": [
        {
          "output_type": "stream",
          "text": [
            "accuracy : 0.9333333333333333\n"
          ],
          "name": "stdout"
        }
      ]
    },
    {
      "cell_type": "code",
      "metadata": {
        "colab": {
          "base_uri": "https://localhost:8080/",
          "height": 35
        },
        "id": "C85chxozBmmC",
        "outputId": "4f3e9e98-a7a8-4e1e-a566-fbb5d70501e8"
      },
      "source": [
        "logistic_model.predict(np.array([[5.1,3.5,1.4,0.2]]))[0]"
      ],
      "execution_count": 12,
      "outputs": [
        {
          "output_type": "execute_result",
          "data": {
            "application/vnd.google.colaboratory.intrinsic+json": {
              "type": "string"
            },
            "text/plain": [
              "'Iris-setosa'"
            ]
          },
          "metadata": {
            "tags": []
          },
          "execution_count": 12
        }
      ]
    },
    {
      "cell_type": "code",
      "metadata": {
        "colab": {
          "base_uri": "https://localhost:8080/"
        },
        "id": "116sef1IBxYU",
        "outputId": "c0ade03c-1e51-4a06-9d87-b2959b159d82"
      },
      "source": [
        "import joblib\n",
        "joblib.dump(logistic_model,\"iris_model.sav\")"
      ],
      "execution_count": 13,
      "outputs": [
        {
          "output_type": "execute_result",
          "data": {
            "text/plain": [
              "['iris_model.sav']"
            ]
          },
          "metadata": {
            "tags": []
          },
          "execution_count": 13
        }
      ]
    },
    {
      "cell_type": "code",
      "metadata": {
        "id": "qrR7OXHrCF23"
      },
      "source": [
        "model2 = joblib.load(\"iris_model.sav\")"
      ],
      "execution_count": 14,
      "outputs": []
    },
    {
      "cell_type": "code",
      "metadata": {
        "id": "NYYnVMXbCNws",
        "colab": {
          "base_uri": "https://localhost:8080/",
          "height": 35
        },
        "outputId": "a45e30dd-2d39-4d83-b49e-6d0456bcf2c4"
      },
      "source": [
        "model2.predict(np.array([[5.1,3.5,1.4,0.2]]))[0]"
      ],
      "execution_count": 15,
      "outputs": [
        {
          "output_type": "execute_result",
          "data": {
            "application/vnd.google.colaboratory.intrinsic+json": {
              "type": "string"
            },
            "text/plain": [
              "'Iris-setosa'"
            ]
          },
          "metadata": {
            "tags": []
          },
          "execution_count": 15
        }
      ]
    },
    {
      "cell_type": "code",
      "metadata": {
        "id": "Wc3zuOapCTxb"
      },
      "source": [
        ""
      ],
      "execution_count": 15,
      "outputs": []
    }
  ]
}